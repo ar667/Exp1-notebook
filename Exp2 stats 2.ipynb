{
 "cells": [
  {
   "cell_type": "code",
   "execution_count": 78,
   "metadata": {
    "collapsed": false
   },
   "outputs": [
    {
     "name": "stdout",
     "output_type": "stream",
     "text": [
      "[u'PO' u'DO' nan]\n",
      "[u'no' u'yes' nan]\n"
     ]
    }
   ],
   "source": [
    "import pandas as pd\n",
    "import numpy as np\n",
    "import glob\n",
    "from __future__ import print_function\n",
    "\n",
    "def strip(text):\n",
    "    try:\n",
    "        return text.strip()\n",
    "    except AttributeError:\n",
    "        return text\n",
    "\n",
    "convert = {'Syntax Used': strip,\n",
    "          'Matched prime?': strip}\n",
    "\n",
    "files = glob.glob(\"../Exp2 Behavioural Data/*.xlsx\")\n",
    "\n",
    "all_frames = [pd.read_excel(file,\n",
    "                            header=0,\n",
    "                            index_col=None,\n",
    "                            converters=convert) for file in files]\n",
    "\n",
    "d = pd.concat(all_frames)\n",
    "\n",
    "print(d['Syntax Used'].unique()) #Tags used by Federica\n",
    "print(d['Matched prime?'].unique()) #Tags used by Federica"
   ]
  },
  {
   "cell_type": "code",
   "execution_count": 83,
   "metadata": {
    "collapsed": false
   },
   "outputs": [
    {
     "name": "stdout",
     "output_type": "stream",
     "text": [
      "Total critical trials: 260\n",
      " DO primes: 130\n",
      " PO primes: 130\n",
      "  DO produced: 121\n",
      "  PO produced: 108\n",
      "  Other produced: 31\n"
     ]
    }
   ],
   "source": [
    "d['Syntax Used'] = d['Syntax Used'].replace(np.nan, 'Other', regex=True)\n",
    "d['Matched prime?'] = d['Matched prime?'].replace(np.nan, 'Other', regex=True)\n",
    "\n",
    "#Replace the empty things with \"Other\"\n",
    "\n",
    "print('Total critical trials:', d['SubjNo'].count()) #Total critical trials\n",
    "\n",
    "print(\" DO primes:\", d[d['Syntax'] == 'DO']['Syntax'].count())\n",
    "# Total DO primes \n",
    "print(\" PO primes:\", d[d['Syntax'] == 'PO']['Syntax'].count())\n",
    "# Total PO primes\n",
    "\n",
    "print(\"  DO produced:\", d[d['Syntax Used'] == 'DO']['Syntax Used'].count())\n",
    "# Total DO usages \n",
    "print(\"  PO produced:\", d[d['Syntax Used'] == 'PO']['Syntax Used'].count())\n",
    "# Total PO usages\n",
    "print(\"  Other produced:\", d[d['Syntax Used'] == 'Other']['Syntax Used'].count())\n",
    "# Total non-PO/non-DO usages"
   ]
  },
  {
   "cell_type": "code",
   "execution_count": 89,
   "metadata": {
    "collapsed": false
   },
   "outputs": [
    {
     "name": "stdout",
     "output_type": "stream",
     "text": [
      "Response matches prime:  128\n",
      "Response mismatches prime:  123\n",
      "Some other response:  9\n"
     ]
    }
   ],
   "source": [
    "match_prime = d[d['Matched prime?'] == 'yes']\n",
    "#The trials where the response matched the prime\n",
    "mismatch_prime = d[d['Matched prime?'] == 'no']\n",
    "#The trials where the response matched the prime\n",
    "other_mismatch_prime = d[d['Matched prime?'] == 'Other']\n",
    "\n",
    "print('Response matches prime: ', match_prime['Matched prime?'].count())\n",
    "print(\"Response mismatches prime: \", mismatch_prime['Matched prime?'].count())\n",
    "print('Some other response: ', other_mismatch_prime['Matched prime?'].count())"
   ]
  },
  {
   "cell_type": "code",
   "execution_count": 91,
   "metadata": {
    "collapsed": false
   },
   "outputs": [
    {
     "data": {
      "text/plain": [
       "PRS\n",
       "0    57\n",
       "1    19\n",
       "2    24\n",
       "3    28\n",
       "Name: PRS, dtype: int64"
      ]
     },
     "execution_count": 91,
     "metadata": {},
     "output_type": "execute_result"
    }
   ],
   "source": [
    "match_prime.groupby(['PRS'])['PRS'].count()\n",
    "# PRS of 0 = no perception"
   ]
  },
  {
   "cell_type": "code",
   "execution_count": 94,
   "metadata": {
    "collapsed": false
   },
   "outputs": [
    {
     "data": {
      "text/plain": [
       "PRS\n",
       "0    69\n",
       "1    16\n",
       "2    20\n",
       "3    18\n",
       "Name: PRS, dtype: int64"
      ]
     },
     "execution_count": 94,
     "metadata": {},
     "output_type": "execute_result"
    }
   ],
   "source": [
    "mismatch_prime.groupby(['PRS'])['PRS'].count()"
   ]
  },
  {
   "cell_type": "code",
   "execution_count": 95,
   "metadata": {
    "collapsed": false
   },
   "outputs": [
    {
     "data": {
      "text/plain": [
       "PRS\n",
       "0    3\n",
       "1    2\n",
       "2    3\n",
       "3    1\n",
       "Name: PRS, dtype: int64"
      ]
     },
     "execution_count": 95,
     "metadata": {},
     "output_type": "execute_result"
    }
   ],
   "source": [
    "other_mismatch_prime.groupby(['PRS'])['PRS'].count()"
   ]
  },
  {
   "cell_type": "code",
   "execution_count": 104,
   "metadata": {
    "collapsed": true
   },
   "outputs": [],
   "source": [
    "do = d[d['Syntax'] == 'DO']\n",
    "# All trials where prime syntax == DO\n",
    "\n",
    "po = d[d['Syntax'] == 'PO']\n",
    "# All trials where prime syntax == PO\n",
    "\n",
    "do_0per = po[po['PRS'] == 0]\n",
    "# All trials where prime syntax == DO and PRS == 0\n",
    "\n",
    "po_0per = do[do['PRS'] == 0]\n",
    "# All trials where prime syntax == PO and PRS == 0\n",
    "\n",
    "do_1per = po[po['PRS'] == 1]\n",
    "# All trials where prime syntax == DO and PRS == 1\n",
    "\n",
    "po_1per = do[do['PRS'] == 1]\n",
    "# All trials where prime syntax == PO and PRS == 1\n",
    "\n",
    "do_2per = po[po['PRS'] == 2]\n",
    "# All trials where prime syntax == DO and PRS == 2\n",
    "\n",
    "po_2per = do[do['PRS'] == 2]\n",
    "# All trials where prime syntax == PO and PRS == 2\n",
    "\n",
    "do_3per = po[po['PRS'] == 3]\n",
    "# All trials where prime syntax == DO and PRS == 3\n",
    "\n",
    "po_3per = do[do['PRS'] == 3]\n",
    "# All trials where prime syntax == PO and PRS == 3"
   ]
  },
  {
   "cell_type": "code",
   "execution_count": 103,
   "metadata": {
    "collapsed": false
   },
   "outputs": [
    {
     "data": {
      "text/plain": [
       "Syntax Used\n",
       "DO       67\n",
       "Other    17\n",
       "PO       46\n",
       "Name: Syntax Used, dtype: int64"
      ]
     },
     "execution_count": 103,
     "metadata": {},
     "output_type": "execute_result"
    }
   ],
   "source": [
    "do.groupby('Syntax Used')['Syntax Used'].count()\n",
    "#Syntax produced in all DO primes"
   ]
  },
  {
   "cell_type": "code",
   "execution_count": 99,
   "metadata": {
    "collapsed": false
   },
   "outputs": [
    {
     "data": {
      "text/plain": [
       "Syntax Used\n",
       "DO       34\n",
       "Other     6\n",
       "PO       28\n",
       "Name: Syntax Used, dtype: int64"
      ]
     },
     "execution_count": 99,
     "metadata": {},
     "output_type": "execute_result"
    }
   ],
   "source": [
    "do_0per.groupby('Syntax Used')['Syntax Used'].count()\n",
    "#Syntax produced in all DO primes where perception == 0"
   ]
  },
  {
   "cell_type": "code",
   "execution_count": 105,
   "metadata": {
    "collapsed": false
   },
   "outputs": [
    {
     "data": {
      "text/plain": [
       "Syntax Used\n",
       "DO       6\n",
       "Other    4\n",
       "PO       7\n",
       "Name: Syntax Used, dtype: int64"
      ]
     },
     "execution_count": 105,
     "metadata": {},
     "output_type": "execute_result"
    }
   ],
   "source": [
    "do_1per.groupby('Syntax Used')['Syntax Used'].count()\n",
    "#Syntax produced in all DO primes where perception == 1"
   ]
  },
  {
   "cell_type": "code",
   "execution_count": 106,
   "metadata": {
    "collapsed": false
   },
   "outputs": [
    {
     "data": {
      "text/plain": [
       "Syntax Used\n",
       "DO        9\n",
       "Other     3\n",
       "PO       10\n",
       "Name: Syntax Used, dtype: int64"
      ]
     },
     "execution_count": 106,
     "metadata": {},
     "output_type": "execute_result"
    }
   ],
   "source": [
    "do_2per.groupby('Syntax Used')['Syntax Used'].count()\n",
    "#Syntax produced in all DO primes where perception == 2"
   ]
  },
  {
   "cell_type": "code",
   "execution_count": 107,
   "metadata": {
    "collapsed": false
   },
   "outputs": [
    {
     "data": {
      "text/plain": [
       "Syntax Used\n",
       "DO        5\n",
       "Other     1\n",
       "PO       17\n",
       "Name: Syntax Used, dtype: int64"
      ]
     },
     "execution_count": 107,
     "metadata": {},
     "output_type": "execute_result"
    }
   ],
   "source": [
    "do_3per.groupby('Syntax Used')['Syntax Used'].count()\n",
    "#Syntax produced in all DO primes where perception == 3"
   ]
  },
  {
   "cell_type": "code",
   "execution_count": 100,
   "metadata": {
    "collapsed": false
   },
   "outputs": [
    {
     "data": {
      "text/plain": [
       "Syntax Used\n",
       "DO       54\n",
       "Other    14\n",
       "PO       62\n",
       "Name: Syntax Used, dtype: int64"
      ]
     },
     "execution_count": 100,
     "metadata": {},
     "output_type": "execute_result"
    }
   ],
   "source": [
    "po.groupby('Syntax Used')['Syntax Used'].count()\n",
    "#Syntax produced in all PO primes"
   ]
  },
  {
   "cell_type": "code",
   "execution_count": 101,
   "metadata": {
    "collapsed": false
   },
   "outputs": [
    {
     "data": {
      "text/plain": [
       "Syntax Used\n",
       "DO       30\n",
       "Other    12\n",
       "PO       19\n",
       "Name: Syntax Used, dtype: int64"
      ]
     },
     "execution_count": 101,
     "metadata": {},
     "output_type": "execute_result"
    }
   ],
   "source": [
    "po_0per.groupby('Syntax Used')['Syntax Used'].count()\n",
    "#Syntax produced in all PO primes where perception == 0"
   ]
  },
  {
   "cell_type": "code",
   "execution_count": 108,
   "metadata": {
    "collapsed": false
   },
   "outputs": [
    {
     "data": {
      "text/plain": [
       "Syntax Used\n",
       "DO       12\n",
       "Other     1\n",
       "PO        7\n",
       "Name: Syntax Used, dtype: int64"
      ]
     },
     "execution_count": 108,
     "metadata": {},
     "output_type": "execute_result"
    }
   ],
   "source": [
    "po_1per.groupby('Syntax Used')['Syntax Used'].count()\n",
    "#Syntax produced in all PO primes where perception == 1"
   ]
  },
  {
   "cell_type": "code",
   "execution_count": 109,
   "metadata": {
    "collapsed": false
   },
   "outputs": [
    {
     "data": {
      "text/plain": [
       "Syntax Used\n",
       "DO       14\n",
       "Other     3\n",
       "PO        8\n",
       "Name: Syntax Used, dtype: int64"
      ]
     },
     "execution_count": 109,
     "metadata": {},
     "output_type": "execute_result"
    }
   ],
   "source": [
    "po_2per.groupby('Syntax Used')['Syntax Used'].count()\n",
    "#Syntax produced in all PO primes where perception == 2"
   ]
  },
  {
   "cell_type": "code",
   "execution_count": 110,
   "metadata": {
    "collapsed": false
   },
   "outputs": [
    {
     "data": {
      "text/plain": [
       "Syntax Used\n",
       "DO       11\n",
       "Other     1\n",
       "PO       12\n",
       "Name: Syntax Used, dtype: int64"
      ]
     },
     "execution_count": 110,
     "metadata": {},
     "output_type": "execute_result"
    }
   ],
   "source": [
    "po_3per.groupby('Syntax Used')['Syntax Used'].count()\n",
    "#Syntax produced in all PO primes where perception == 3"
   ]
  },
  {
   "cell_type": "code",
   "execution_count": null,
   "metadata": {
    "collapsed": true
   },
   "outputs": [],
   "source": []
  }
 ],
 "metadata": {
  "kernelspec": {
   "display_name": "Python 2",
   "language": "python",
   "name": "python2"
  },
  "language_info": {
   "codemirror_mode": {
    "name": "ipython",
    "version": 2
   },
   "file_extension": ".py",
   "mimetype": "text/x-python",
   "name": "python",
   "nbconvert_exporter": "python",
   "pygments_lexer": "ipython2",
   "version": "2.7.10"
  }
 },
 "nbformat": 4,
 "nbformat_minor": 0
}
