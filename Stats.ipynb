{
 "cells": [
  {
   "cell_type": "code",
   "execution_count": 1,
   "metadata": {
    "collapsed": true
   },
   "outputs": [],
   "source": [
    "import pandas as pd\n",
    "import glob\n",
    "from __future__ import division\n",
    "from __future__ import print_function"
   ]
  },
  {
   "cell_type": "code",
   "execution_count": 2,
   "metadata": {
    "collapsed": true
   },
   "outputs": [],
   "source": [
    "# Functions for excluding participants/trials\n",
    "# Collapse Sklar non-violation conditions into one\n",
    "# Convert to numeric for NaN cells\n",
    "def process(list_of_participants):\n",
    "\tcleaned = []\n",
    "\tfor frame in list_of_participants:\n",
    "\t\tframe = frame.replace('Sklar_control_A', 'Sklar_non-violation')\n",
    "\t\tframe = frame.replace('Sklar_control_B', 'Sklar_non-violation')\n",
    "\t\tframe = frame.replace('Sklar_filler', 'Sklar_non-violation')#Merges like conditions\n",
    "\t\tframe = frame.convert_objects(convert_numeric=True)\n",
    "\t\tcleaned.append(frame)\n",
    "\tprint('Done!')\n",
    "\treturn cleaned\n",
    "\n",
    "# Remove any participant with >10% error\n",
    "def remove_10_percent(list_of_participants):\n",
    "\treject_participants = []\n",
    "\taccept_participants = []\n",
    "\n",
    "\t# Remove participants who did not respond correctly on more than 10% of the trials \n",
    "\tfor frame in list_of_participants:\n",
    "\t\t# frame = frame.replace('Sklar_control_A', 'Sklar_non-violation')\n",
    "\t\t# frame = frame.replace('Sklar_control_B', 'Sklar_non-violation')\n",
    "\t\t# frame = frame.replace('Sklar_filler', 'Sklar_non-violation')#Merges like conditions\n",
    "\t\tframe = frame.convert_objects(convert_numeric=True)\n",
    "\t\tcorrect = len(frame[frame['match?'] == 1])\n",
    "\t\twrong = len(frame[frame['match?'] == 0])\n",
    "\t\ttotal = len(frame)\n",
    "\t\tcutoff = round(total * 0.1)\n",
    "\t\tif wrong >= cutoff:\n",
    "\t\t\tprint('\\tFAIL on ' + str(frame['SubjNo'].unique()[0]) + '. Cutoff was ' + str(cutoff) + ' but got ' + str(wrong) + ' wrong.')\n",
    "\t\t\treject_participants.append(frame)\n",
    "\t\telse:\n",
    "\t\t\tprint('Pass on ' + str(frame['SubjNo'].unique()[0]) + '. Cutoff was ' + str(cutoff) + ' but only got ' + str(wrong) + ' wrong.')\n",
    "\t\t\taccept_participants.append(frame)\n",
    "\n",
    "\t# Remove participants with mean RTs that were 3 SDs slower than the group’s mean\n",
    "\n",
    "\tcombined = pd.concat(accept_participants)\n",
    "\n",
    "\tgroup_mean = combined['rt'].mean()\n",
    "\tgroup_std = combined['rt'].std()\n",
    "\n",
    "\tprint(round((len(list_of_participants) - len(accept_participants)) * 100 / len(list_of_participants),2), \"% excluded participants:\", len(reject_participants), 'out of', len(list_of_participants))\n",
    "\n",
    "\treturn accept_participants\n",
    "\n",
    "# Remove any participant with a mean RT > 3SD of group mean\n",
    "def remove_3sd_of_group(list_of_participants):\n",
    "\treject_participants_2 = []\n",
    "\taccept_participants_2 = []\n",
    "\n",
    "\tcombined = pd.concat(list_of_participants)\n",
    "\n",
    "\tgroup_mean = combined['rt'].mean()\n",
    "\tgroup_std = combined['rt'].std()\n",
    "\n",
    "\tfor participant in list_of_participants:\n",
    "\t\tif participant['rt'].mean() > (group_std * 3.0):\n",
    "\t\t\tprint('Fail')\n",
    "\t\t\treject_participants_2.append(participant)\n",
    "\t\telse:\n",
    "\t\t\tprint('Pass!')\n",
    "\t\t\taccept_participants_2.append(participant)\n",
    "\n",
    "\tprint('Removed', len(reject_participants_2), 'participants.')\n",
    "\n",
    "\treturn accept_participants_2\n",
    "\n",
    "# For each participant, remove their trials that they got wrong.\n",
    "def remove_wrong_trials(list_of_participants):\n",
    "\tcorrect_only = []\n",
    "\n",
    "\tfor participant in list_of_participants:\n",
    "\t\ttemp = participant[participant['match?'] == 1]\n",
    "\t\tcorrect_only.append(temp)\n",
    "\t\tright = participant[participant['match?'] == 1]['rt'].count()\n",
    "\t\twrong = participant[participant['match?'] == 0]['rt'].count()\n",
    "\t\tprint('Removed', round((wrong/(right+wrong))*100,2), \"%\")\n",
    "\n",
    "\treturn correct_only\n",
    "\n",
    "# Remove trials that had responses that were more than 3 SDs from each participant’s mean\n",
    "def remove_3sd_own_trials(list_of_participants):\n",
    "\twithin_3sd_own_mean = []\n",
    "\n",
    "\tfor participant in list_of_participants:\n",
    "\t\tp_mean = participant['rt'].mean()\n",
    "\t\tp_std = participant['rt'].std()\n",
    "\t\thigh = p_mean + (p_std * 3.0) \n",
    "\t\tlow = p_mean - (p_std * 3.0)\n",
    "\n",
    "\t\ttemp = participant[participant['rt'] <= high]\n",
    "\t\ttemp2 = temp[temp['rt'] >= low]\n",
    "\n",
    "\t\tstart_size = len(participant)\n",
    "\t\tend_size = len(temp2)\n",
    "\t\tchange = start_size - end_size\n",
    "\n",
    "\t\tprint(start_size, end_size, '% removed:', round((change/start_size) * 100.0,2))\n",
    "\n",
    "\t\twithin_3sd_own_mean.append(temp2)\n",
    "\n",
    "\treturn within_3sd_own_mean\n",
    "\n",
    "# Remove trials that were more than 3 SDs from the general mean for each condition (incoherent or control)\n",
    "def check_3sd_condition(list_of_participants):\n",
    "\tcombined = pd.concat(list_of_participants)\n",
    "\t\n",
    "\tgroup_stats = {}\n",
    "\t\n",
    "\tfor condition in [u'Non-sensible', u'Sensible', u'Sklar_non-violation', u'Sklar_violation']:\n",
    "\t\tgroup_stats[condition] = {\n",
    "\t\t\t'mean':combined.groupby([u'prime_semantics'])[u'rt'].describe()[condition]['mean'],\n",
    "\t\t\t'std':combined.groupby([u'prime_semantics'])[u'rt'].describe()[condition]['std']}\n",
    "\n",
    "\n",
    "\tfor participant in list_of_participants:\n",
    "\t\tfor condition in group_stats:\n",
    "\t\t\tsubject_condition_mean = participant.groupby([u'prime_semantics'])[u'rt'].describe()[condition]['mean']\n",
    "\t\t\tgroup_condition_3sd = group_stats[condition]['std'] * 3.0\n",
    "\t\t\tgroup_condition_mean = group_stats[condition]['mean']\n",
    "\t\t\tlow = group_condition_mean - group_condition_3sd\n",
    "\t\t\thigh = group_condition_mean + group_condition_3sd\n",
    "\t\t\tprint(low, high, subject_condition_mean)\n",
    "\t\t\tif subject_condition_mean >= high:\n",
    "\t\t\t\tprint('fail')\n",
    "\t\t\telse:\n",
    "\t\t\t\tprint('\\t pass') #Didn't remove any subjects here.\n",
    "\t\t\tif subject_condition_mean <= low:\n",
    "\t\t\t\tprint('fail')\n",
    "\t\t\telse:\n",
    "\t\t\t\tprint('\\t pass') #Didn't remove any subjects here."
   ]
  },
  {
   "cell_type": "code",
   "execution_count": 11,
   "metadata": {
    "collapsed": true
   },
   "outputs": [],
   "source": [
    "# Load CSV files\n",
    "\n",
    "files = glob.glob(\"*.csv\")\n",
    "\n",
    "all_frames = [pd.read_csv(file, header=0, index_col=None) for file in files]"
   ]
  },
  {
   "cell_type": "code",
   "execution_count": 18,
   "metadata": {
    "collapsed": false
   },
   "outputs": [
    {
     "name": "stdout",
     "output_type": "stream",
     "text": [
      "Done!\n"
     ]
    }
   ],
   "source": [
    "p = process(all_frames)"
   ]
  },
  {
   "cell_type": "code",
   "execution_count": 19,
   "metadata": {
    "collapsed": false
   },
   "outputs": [
    {
     "name": "stdout",
     "output_type": "stream",
     "text": [
      "Pass on 10. Cutoff was 44.0 but only got 28 wrong.\n",
      "Pass on 11. Cutoff was 44.0 but only got 14 wrong.\n",
      "\tFAIL on 12. Cutoff was 44.0 but got 170 wrong.\n",
      "Pass on 13. Cutoff was 44.0 but only got 3 wrong.\n",
      "\tFAIL on 14. Cutoff was 44.0 but got 129 wrong.\n",
      "Pass on 15. Cutoff was 44.0 but only got 2 wrong.\n",
      "Pass on 16. Cutoff was 44.0 but only got 33 wrong.\n",
      "\tFAIL on 17. Cutoff was 44.0 but got 213 wrong.\n",
      "Pass on 1. Cutoff was 44.0 but only got 5 wrong.\n",
      "Pass on 2. Cutoff was 44.0 but only got 40 wrong.\n",
      "Pass on 3. Cutoff was 44.0 but only got 13 wrong.\n",
      "Pass on 4. Cutoff was 44.0 but only got 6 wrong.\n",
      "Pass on 5. Cutoff was 44.0 but only got 1 wrong.\n",
      "Pass on 6. Cutoff was 44.0 but only got 23 wrong.\n",
      "Pass on 7. Cutoff was 44.0 but only got 10 wrong.\n",
      "\tFAIL on 8. Cutoff was 44.0 but got 69 wrong.\n",
      "Pass on 9. Cutoff was 44.0 but only got 9 wrong.\n",
      "23.53 % excluded participants: 4 out of 17\n"
     ]
    }
   ],
   "source": [
    "p = remove_10_percent(p)"
   ]
  },
  {
   "cell_type": "code",
   "execution_count": 20,
   "metadata": {
    "collapsed": false
   },
   "outputs": [
    {
     "name": "stdout",
     "output_type": "stream",
     "text": [
      "Removed 2.16 %\n",
      "Removed 3.21 %\n",
      "Removed 0.69 %\n",
      "Removed 0.46 %\n",
      "Removed 0.49 %\n",
      "Removed 1.15 %\n",
      "Removed 1.25 %\n",
      "Removed 2.98 %\n",
      "Removed 0.92 %\n",
      "Removed 0.0 %\n",
      "Removed 3.28 %\n",
      "Removed 1.84 %\n",
      "Removed 2.06 %\n"
     ]
    }
   ],
   "source": [
    "p = remove_wrong_trials(p)"
   ]
  },
  {
   "cell_type": "code",
   "execution_count": 21,
   "metadata": {
    "collapsed": false
   },
   "outputs": [
    {
     "name": "stdout",
     "output_type": "stream",
     "text": [
      "Pass!\n",
      "Pass!\n",
      "Pass!\n",
      "Pass!\n",
      "Pass!\n",
      "Pass!\n",
      "Pass!\n",
      "Pass!\n",
      "Pass!\n",
      "Pass!\n",
      "Pass!\n",
      "Pass!\n",
      "Pass!\n",
      "Removed 0 participants.\n"
     ]
    }
   ],
   "source": [
    "p = remove_3sd_of_group(p)"
   ]
  },
  {
   "cell_type": "code",
   "execution_count": 22,
   "metadata": {
    "collapsed": false
   },
   "outputs": [
    {
     "name": "stdout",
     "output_type": "stream",
     "text": [
      "408 403 % removed: 1.23\n",
      "422 412 % removed: 2.37\n",
      "433 429 % removed: 0.92\n",
      "434 425 % removed: 2.07\n",
      "403 403 % removed: 0.0\n",
      "431 424 % removed: 1.62\n",
      "396 389 % removed: 1.77\n",
      "423 418 % removed: 1.18\n",
      "430 422 % removed: 1.86\n",
      "435 426 % removed: 2.07\n",
      "413 401 % removed: 2.91\n",
      "426 413 % removed: 3.05\n",
      "427 419 % removed: 1.87\n"
     ]
    }
   ],
   "source": [
    "p = remove_3sd_own_trials(p)"
   ]
  },
  {
   "cell_type": "code",
   "execution_count": 23,
   "metadata": {
    "collapsed": true
   },
   "outputs": [],
   "source": [
    "final = pd.concat(p)"
   ]
  },
  {
   "cell_type": "code",
   "execution_count": 24,
   "metadata": {
    "collapsed": false
   },
   "outputs": [
    {
     "data": {
      "text/plain": [
       "prime_semantics           \n",
       "Non-sensible         count    1865.000000\n",
       "                     mean        1.525369\n",
       "                     std         1.050373\n",
       "                     min         0.458297\n",
       "                     25%         0.960361\n",
       "                     50%         1.199027\n",
       "                     75%         1.599044\n",
       "                     max         7.904203\n",
       "Sensible             count    1851.000000\n",
       "                     mean        1.515076\n",
       "                     std         1.007573\n",
       "                     min         0.477951\n",
       "                     25%         0.968694\n",
       "                     50%         1.206778\n",
       "                     75%         1.575541\n",
       "                     max         7.596931\n",
       "Sklar_non-violation  count    1248.000000\n",
       "                     mean        1.491884\n",
       "                     std         0.955930\n",
       "                     min         0.476173\n",
       "                     25%         0.964012\n",
       "                     50%         1.222665\n",
       "                     75%         1.583072\n",
       "                     max         7.520918\n",
       "Sklar_violation      count     420.000000\n",
       "                     mean        1.509085\n",
       "                     std         1.048077\n",
       "                     min         0.476059\n",
       "                     25%         0.940554\n",
       "                     50%         1.196223\n",
       "                     75%         1.577509\n",
       "                     max         7.130455\n",
       "dtype: float64"
      ]
     },
     "execution_count": 24,
     "metadata": {},
     "output_type": "execute_result"
    }
   ],
   "source": [
    "#Aggregated by subject and then condition\n",
    "final.groupby([u'prime_semantics'])[u'rt'].describe()"
   ]
  },
  {
   "cell_type": "code",
   "execution_count": 25,
   "metadata": {
    "collapsed": true
   },
   "outputs": [],
   "source": [
    "import scipy.stats"
   ]
  },
  {
   "cell_type": "code",
   "execution_count": 26,
   "metadata": {
    "collapsed": true
   },
   "outputs": [],
   "source": [
    "data = {}\n",
    "\n",
    "for condition in [u'Non-sensible', u'Sensible', u'Sklar_non-violation', u'Sklar_violation']:\n",
    "\tdata[condition] = final[final['prime_semantics'] == condition]['rt']"
   ]
  },
  {
   "cell_type": "code",
   "execution_count": 27,
   "metadata": {
    "collapsed": false
   },
   "outputs": [
    {
     "data": {
      "text/plain": [
       "(array(-0.30479565717623347), 0.76053886739177201)"
      ]
     },
     "execution_count": 27,
     "metadata": {},
     "output_type": "execute_result"
    }
   ],
   "source": [
    "#t-test comparing two conditions, aggregated across all eligible trials\n",
    "scipy.stats.ttest_ind(data['Sensible'], data['Non-sensible'])"
   ]
  },
  {
   "cell_type": "code",
   "execution_count": 28,
   "metadata": {
    "collapsed": false
   },
   "outputs": [
    {
     "data": {
      "text/plain": [
       "(array(-0.3111706444404149), 0.75570982802736431)"
      ]
     },
     "execution_count": 28,
     "metadata": {},
     "output_type": "execute_result"
    }
   ],
   "source": [
    "#t-test comparing two conditions, aggregated across all eligible trials\n",
    "scipy.stats.ttest_ind(data['Sklar_non-violation'], data['Sklar_violation'])"
   ]
  },
  {
   "cell_type": "code",
   "execution_count": 36,
   "metadata": {
    "collapsed": false
   },
   "outputs": [
    {
     "name": "stdout",
     "output_type": "stream",
     "text": [
      "(array(0.10918898305242863), 0.91306225345231429)\n",
      "(array(0.2871502871700742), 0.77402330841990308)\n",
      "(array(0.6414703702596883), 0.52126459500902667)\n",
      "(array(0.9033402075998909), 0.36641530281970336)\n"
     ]
    }
   ],
   "source": [
    "#Just to check\n",
    "print(scipy.stats.ttest_ind(data['Sensible'], data['Sklar_violation']))\n",
    "print(scipy.stats.ttest_ind(data['Non-sensible'], data['Sklar_violation']))\n",
    "print(scipy.stats.ttest_ind(data['Sensible'], data['Sklar_non-violation']))\n",
    "print(scipy.stats.ttest_ind(data['Non-sensible'], data['Sklar_non-violation']))"
   ]
  },
  {
   "cell_type": "code",
   "execution_count": 44,
   "metadata": {
    "collapsed": true
   },
   "outputs": [],
   "source": [
    "import seaborn as sns\n",
    "%matplotlib inline"
   ]
  },
  {
   "cell_type": "code",
   "execution_count": 45,
   "metadata": {
    "collapsed": false
   },
   "outputs": [],
   "source": [
    "grouped_data = final.groupby([u'prime_semantics'])[u'rt']"
   ]
  },
  {
   "cell_type": "code",
   "execution_count": 56,
   "metadata": {
    "collapsed": false
   },
   "outputs": [
    {
     "data": {
      "text/plain": [
       "<matplotlib.axes.AxesSubplot at 0x10e975790>"
      ]
     },
     "execution_count": 56,
     "metadata": {},
     "output_type": "execute_result"
    },
    {
     "data": {
      "image/png": "[encoded data removed]",
      "text/plain": [
       "<matplotlib.figure.Figure at 0x10e975350>"
      ]
     },
     "metadata": {},
     "output_type": "display_data"
    }
   ],
   "source": [
    "sns.distplot(grouped_data.get_group('Sensible'))"
   ]
  },
  {
   "cell_type": "code",
   "execution_count": 52,
   "metadata": {
    "collapsed": false
   },
   "outputs": [
    {
     "data": {
      "text/plain": [
       "<matplotlib.axes.AxesSubplot at 0x10e053e50>"
      ]
     },
     "execution_count": 52,
     "metadata": {},
     "output_type": "execute_result"
    },
    {
     "data": {
      "image/png": "[encoded data removed]",
      "text/plain": [
       "<matplotlib.figure.Figure at 0x10ddc8390>"
      ]
     },
     "metadata": {},
     "output_type": "display_data"
    }
   ],
   "source": [
    "sns.distplot(grouped_data.get_group('Non-sensible'))"
   ]
  },
  {
   "cell_type": "code",
   "execution_count": 53,
   "metadata": {
    "collapsed": false
   },
   "outputs": [
    {
     "data": {
      "text/plain": [
       "<matplotlib.axes.AxesSubplot at 0x10e276d50>"
      ]
     },
     "execution_count": 53,
     "metadata": {},
     "output_type": "execute_result"
    },
    {
     "data": {
      "image/png": "[encoded data removed]",
      "text/plain": [
       "<matplotlib.figure.Figure at 0x10e192b10>"
      ]
     },
     "metadata": {},
     "output_type": "display_data"
    }
   ],
   "source": [
    "sns.distplot(grouped_data.get_group('Sklar_non-violation'))"
   ]
  },
  {
   "cell_type": "code",
   "execution_count": 54,
   "metadata": {
    "collapsed": false
   },
   "outputs": [
    {
     "data": {
      "text/plain": [
       "<matplotlib.axes.AxesSubplot at 0x10dc09d10>"
      ]
     },
     "execution_count": 54,
     "metadata": {},
     "output_type": "execute_result"
    },
    {
     "data": {
      "image/png": "[encoded data removed]",
      "text/plain": [
       "<matplotlib.figure.Figure at 0x10e5734d0>"
      ]
     },
     "metadata": {},
     "output_type": "display_data"
    }
   ],
   "source": [
    "sns.distplot(grouped_data.get_group('Sklar_violation'))"
   ]
  },
  {
   "cell_type": "code",
   "execution_count": 58,
   "metadata": {
    "collapsed": false
   },
   "outputs": [
    {
     "data": {
      "image/png": "[encoded data removed]",
      "text/plain": [
       "<matplotlib.figure.Figure at 0x10ea6e690>"
      ]
     },
     "metadata": {},
     "output_type": "display_data"
    }
   ],
   "source": [
    "graph = sns.factorplot(\n",
    "\tx='prime_semantics', \n",
    "\ty=\"rt\", \n",
    "\tdata=final,\n",
    "\tsize=6, \n",
    "\tkind=\"bar\", \n",
    "\tpalette=\"muted\",\n",
    "\torder=[u'Non-sensible', u'Sensible', u'Sklar_violation', u'Sklar_non-violation'])"
   ]
  },
  {
   "cell_type": "code",
   "execution_count": null,
   "metadata": {
    "collapsed": true
   },
   "outputs": [],
   "source": []
  }
 ],
 "metadata": {
  "kernelspec": {
   "display_name": "Python 2",
   "language": "python",
   "name": "python2"
  },
  "language_info": {
   "codemirror_mode": {
    "name": "ipython",
    "version": 2
   },
   "file_extension": ".py",
   "mimetype": "text/x-python",
   "name": "python",
   "nbconvert_exporter": "python",
   "pygments_lexer": "ipython2",
   "version": "2.7.10"
  }
 },
 "nbformat": 4,
 "nbformat_minor": 0
}
